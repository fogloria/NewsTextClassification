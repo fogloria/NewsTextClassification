{
 "cells": [
  {
   "cell_type": "markdown",
   "metadata": {},
   "source": [
    "# 预处理\n",
    "## Q：No module named 'cv2'\n",
    "   A：pip install jupyter tqdm opencv-python matplotlib pandas\n",
    "## Q：libSM.so.6: cannot open shared object file: No such file or directory\n",
    "   A：apt update && apt install -y libsm6 libxext6\n",
    "## Q：ibXrender.so.1: cannot open shared object file: No such file or directory\n",
    "   A：apt-get install libxrender1\n",
    "## Q:  Window10下，安装GPU环境\n",
    "1. conda create --name pytorch\n",
    "2. conda activate pytorch\n",
    "3. conda install pytorch torchvision cudatoolkit=10.2 -c pytorch\n",
    "4. import torch\n",
    "5. torch.cuda.is_available()\n",
    "6. nvidia-smi 查看gpu信息\n"
   ]
  },
  {
   "cell_type": "code",
   "execution_count": 4,
   "metadata": {},
   "outputs": [
    {
     "name": "stdout",
     "output_type": "stream",
     "text": [
      "Collecting torch==1.4.0\n",
      "  Downloading https://download.pytorch.org/whl/cu101/torch-1.4.0-cp38-cp38-win_amd64.whl (796.9 MB)\n",
      "Installing collected packages: torch\n",
      "Successfully installed torch-1.4.0\n"
     ]
    }
   ],
   "source": [
    "!pip install https://download.pytorch.org/whl/cu101/torch-1.4.0-cp38-cp38-win_amd64.whl"
   ]
  },
  {
   "cell_type": "code",
   "execution_count": 5,
   "metadata": {},
   "outputs": [
    {
     "name": "stdout",
     "output_type": "stream",
     "text": [
      "Collecting torchvision==0.5.0\n",
      "  Downloading https://download.pytorch.org/whl/cu101/torchvision-0.5.0-cp38-cp38-win_amd64.whl (1.2 MB)\n",
      "Requirement already satisfied: pillow>=4.1.1 in c:\\users\\learn\\anaconda3\\lib\\site-packages (from torchvision==0.5.0) (7.2.0)\n",
      "Requirement already satisfied: torch==1.4.0 in c:\\users\\learn\\anaconda3\\lib\\site-packages (from torchvision==0.5.0) (1.4.0)\n",
      "Requirement already satisfied: numpy in c:\\users\\learn\\anaconda3\\lib\\site-packages (from torchvision==0.5.0) (1.18.5)\n",
      "Requirement already satisfied: six in c:\\users\\learn\\anaconda3\\lib\\site-packages (from torchvision==0.5.0) (1.15.0)\n",
      "Installing collected packages: torchvision\n",
      "Successfully installed torchvision-0.5.0\n"
     ]
    }
   ],
   "source": [
    "!pip install https://download.pytorch.org/whl/cu101/torchvision-0.5.0-cp38-cp38-win_amd64.whl"
   ]
  },
  {
   "cell_type": "code",
   "execution_count": 6,
   "metadata": {},
   "outputs": [
    {
     "data": {
      "text/plain": [
       "True"
      ]
     },
     "execution_count": 6,
     "metadata": {},
     "output_type": "execute_result"
    }
   ],
   "source": [
    "import torch\n",
    "torch.cuda.is_available()"
   ]
  },
  {
   "cell_type": "markdown",
   "metadata": {},
   "source": [
    "## Q: convert to ipynb from py"
   ]
  },
  {
   "cell_type": "markdown",
   "metadata": {},
   "source": [
    "## A: pip install ipynb-py-convert"
   ]
  },
  {
   "cell_type": "markdown",
   "metadata": {},
   "source": [
    "# 解压缩并更名\n",
    "\n",
    "```\n",
    "cd datawhale/zip\n",
    "unzip train.zip -d ../input\n",
    "unzip val.zip -d ../input\n",
    "unzip test_a.zip -d ../input\n",
    "cd ../input\n",
    "mv ./mchar_train ./train\n",
    "mv ./mchar_val ./val\n",
    "mv ./mchar_test_a ./test_a\n",
    "```"
   ]
  },
  {
   "cell_type": "markdown",
   "metadata": {},
   "source": [
    "# 初始包导入"
   ]
  },
  {
   "cell_type": "code",
   "execution_count": 1,
   "metadata": {},
   "outputs": [],
   "source": [
    "import os.path\n",
    "import json\n",
    "from os import path\n"
   ]
  },
  {
   "cell_type": "markdown",
   "metadata": {},
   "source": [
    "# 如果想使用yolov,json转换成txt文件"
   ]
  },
  {
   "cell_type": "code",
   "execution_count": 2,
   "metadata": {},
   "outputs": [],
   "source": [
    "def json2txt(jsonPath,txtPath):\n",
    "    train_json = json.load(open(jsonPath))\n",
    "    for x in train_json:\n",
    "        line = x\n",
    "        for i in range(len(train_json[x]['left'])):\n",
    "            line = line + \" \"\n",
    "            x1 = train_json[x]['left'][i]\n",
    "            y1 = train_json[x]['top'][i]\n",
    "            x2 = x1 + train_json[x]['width'][i]\n",
    "            y2 = y1 + train_json[x]['height'][i]\n",
    "            id = train_json[x]['label'][i]\n",
    "            line = line + str(x1) + \",\" + str(y1) + \",\" + str(x2) + \",\" + str(y2) + \",\" + str(id)\n",
    "\n",
    "        with open(txtPath,\"a+\") as f:\n",
    "            f.write(str(line)+'\\n')\n",
    "        \n",
    "json2txt('../input/train.json','../input/train.txt')\n",
    "json2txt('../input/val.json','../input/val.txt')\n",
    "json2txt('../input/test_a.json','../input/test_a.txt')\n"
   ]
  },
  {
   "cell_type": "code",
   "execution_count": null,
   "metadata": {},
   "outputs": [],
   "source": []
  }
 ],
 "metadata": {
  "kernelspec": {
   "display_name": "Python 3",
   "language": "python",
   "name": "python3"
  },
  "language_info": {
   "codemirror_mode": {
    "name": "ipython",
    "version": 3
   },
   "file_extension": ".py",
   "mimetype": "text/x-python",
   "name": "python",
   "nbconvert_exporter": "python",
   "pygments_lexer": "ipython3",
   "version": "3.8.3"
  }
 },
 "nbformat": 4,
 "nbformat_minor": 4
}
